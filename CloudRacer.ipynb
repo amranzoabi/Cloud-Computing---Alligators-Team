{
  "cells": [
    {
      "cell_type": "markdown",
      "metadata": {
        "id": "view-in-github",
        "colab_type": "text"
      },
      "source": [
        "<a href=\"https://colab.research.google.com/github/amranzoabi/Cloud-Computing---Alligators-Team/blob/main/CloudRacer.ipynb\" target=\"_parent\"><img src=\"https://colab.research.google.com/assets/colab-badge.svg\" alt=\"Open In Colab\"/></a>"
      ]
    },
    {
      "cell_type": "code",
      "execution_count": 2,
      "metadata": {
        "colab": {
          "base_uri": "https://localhost:8080/"
        },
        "id": "qNxwmRjjx-CY",
        "outputId": "03c19da7-0138-4008-9c13-4eb15b7049fd"
      },
      "outputs": [
        {
          "output_type": "stream",
          "name": "stdout",
          "text": [
            "Looking in indexes: https://pypi.org/simple, https://us-python.pkg.dev/colab-wheels/public/simple/\n",
            "Collecting firebase\n",
            "  Downloading firebase-4.0.1-py3-none-any.whl (12 kB)\n",
            "Requirement already satisfied: requests in /usr/local/lib/python3.10/dist-packages (from firebase) (2.27.1)\n",
            "Requirement already satisfied: urllib3<1.27,>=1.21.1 in /usr/local/lib/python3.10/dist-packages (from requests->firebase) (1.26.16)\n",
            "Requirement already satisfied: certifi>=2017.4.17 in /usr/local/lib/python3.10/dist-packages (from requests->firebase) (2023.5.7)\n",
            "Requirement already satisfied: charset-normalizer~=2.0.0 in /usr/local/lib/python3.10/dist-packages (from requests->firebase) (2.0.12)\n",
            "Requirement already satisfied: idna<4,>=2.5 in /usr/local/lib/python3.10/dist-packages (from requests->firebase) (3.4)\n",
            "Installing collected packages: firebase\n",
            "Successfully installed firebase-4.0.1\n"
          ]
        }
      ],
      "source": [
        "!pip install firebase"
      ]
    },
    {
      "cell_type": "code",
      "execution_count": 3,
      "metadata": {
        "colab": {
          "base_uri": "https://localhost:8080/"
        },
        "id": "k12LukEYyAyA",
        "outputId": "b9ed9af2-014e-4357-d4ed-9d75ad378801"
      },
      "outputs": [
        {
          "output_type": "stream",
          "name": "stdout",
          "text": [
            "Mounted at /content/drive\n"
          ]
        }
      ],
      "source": [
        "from google.colab import drive\n",
        "drive.mount(\"/content/drive\", force_remount=True)\n",
        "#download files from this link: https://drive.google.com/drive/folders/1L_hvXxcJxhSFQCHwSkt2I-rXql44csiR?usp=sharing\n",
        "#\n",
        "#upload the files to your google drive under directory Colab Notebooks/CloudRacer (create a folder called CloudRacer inside Colab Notebooks and put the files inside it)\n",
        "#run this before running the code"
      ]
    },
    {
      "cell_type": "code",
      "execution_count": 4,
      "metadata": {
        "id": "2GgyAG3YVCSc",
        "colab": {
          "base_uri": "https://localhost:8080/",
          "height": 1000,
          "resources": {
            "http://localhost:8080/clear_output": {
              "data": "CjwhRE9DVFlQRSBodG1sPgo8aHRtbCBsYW5nPWVuPgogIDxtZXRhIGNoYXJzZXQ9dXRmLTg+CiAgPG1ldGEgbmFtZT12aWV3cG9ydCBjb250ZW50PSJpbml0aWFsLXNjYWxlPTEsIG1pbmltdW0tc2NhbGU9MSwgd2lkdGg9ZGV2aWNlLXdpZHRoIj4KICA8dGl0bGU+RXJyb3IgNDA0IChOb3QgRm91bmQpISExPC90aXRsZT4KICA8c3R5bGU+CiAgICAqe21hcmdpbjowO3BhZGRpbmc6MH1odG1sLGNvZGV7Zm9udDoxNXB4LzIycHggYXJpYWwsc2Fucy1zZXJpZn1odG1se2JhY2tncm91bmQ6I2ZmZjtjb2xvcjojMjIyO3BhZGRpbmc6MTVweH1ib2R5e21hcmdpbjo3JSBhdXRvIDA7bWF4LXdpZHRoOjM5MHB4O21pbi1oZWlnaHQ6MTgwcHg7cGFkZGluZzozMHB4IDAgMTVweH0qID4gYm9keXtiYWNrZ3JvdW5kOnVybCgvL3d3dy5nb29nbGUuY29tL2ltYWdlcy9lcnJvcnMvcm9ib3QucG5nKSAxMDAlIDVweCBuby1yZXBlYXQ7cGFkZGluZy1yaWdodDoyMDVweH1we21hcmdpbjoxMXB4IDAgMjJweDtvdmVyZmxvdzpoaWRkZW59aW5ze2NvbG9yOiM3Nzc7dGV4dC1kZWNvcmF0aW9uOm5vbmV9YSBpbWd7Ym9yZGVyOjB9QG1lZGlhIHNjcmVlbiBhbmQgKG1heC13aWR0aDo3NzJweCl7Ym9keXtiYWNrZ3JvdW5kOm5vbmU7bWFyZ2luLXRvcDowO21heC13aWR0aDpub25lO3BhZGRpbmctcmlnaHQ6MH19I2xvZ297YmFja2dyb3VuZDp1cmwoLy93d3cuZ29vZ2xlLmNvbS9pbWFnZXMvbG9nb3MvZXJyb3JwYWdlL2Vycm9yX2xvZ28tMTUweDU0LnBuZykgbm8tcmVwZWF0O21hcmdpbi1sZWZ0Oi01cHh9QG1lZGlhIG9ubHkgc2NyZWVuIGFuZCAobWluLXJlc29sdXRpb246MTkyZHBpKXsjbG9nb3tiYWNrZ3JvdW5kOnVybCgvL3d3dy5nb29nbGUuY29tL2ltYWdlcy9sb2dvcy9lcnJvcnBhZ2UvZXJyb3JfbG9nby0xNTB4NTQtMngucG5nKSBuby1yZXBlYXQgMCUgMCUvMTAwJSAxMDAlOy1tb3otYm9yZGVyLWltYWdlOnVybCgvL3d3dy5nb29nbGUuY29tL2ltYWdlcy9sb2dvcy9lcnJvcnBhZ2UvZXJyb3JfbG9nby0xNTB4NTQtMngucG5nKSAwfX1AbWVkaWEgb25seSBzY3JlZW4gYW5kICgtd2Via2l0LW1pbi1kZXZpY2UtcGl4ZWwtcmF0aW86Mil7I2xvZ297YmFja2dyb3VuZDp1cmwoLy93d3cuZ29vZ2xlLmNvbS9pbWFnZXMvbG9nb3MvZXJyb3JwYWdlL2Vycm9yX2xvZ28tMTUweDU0LTJ4LnBuZykgbm8tcmVwZWF0Oy13ZWJraXQtYmFja2dyb3VuZC1zaXplOjEwMCUgMTAwJX19I2xvZ297ZGlzcGxheTppbmxpbmUtYmxvY2s7aGVpZ2h0OjU0cHg7d2lkdGg6MTUwcHh9CiAgPC9zdHlsZT4KICA8YSBocmVmPS8vd3d3Lmdvb2dsZS5jb20vPjxzcGFuIGlkPWxvZ28gYXJpYS1sYWJlbD1Hb29nbGU+PC9zcGFuPjwvYT4KICA8cD48Yj40MDQuPC9iPiA8aW5zPlRoYXTigJlzIGFuIGVycm9yLjwvaW5zPgogIDxwPiAgPGlucz5UaGF04oCZcyBhbGwgd2Uga25vdy48L2lucz4K",
              "ok": false,
              "headers": [
                [
                  "content-length",
                  "1449"
                ],
                [
                  "content-type",
                  "text/html; charset=utf-8"
                ]
              ],
              "status": 404,
              "status_text": ""
            },
            "http://localhost:8080/CSS/style.css": {
              "data": "CjwhRE9DVFlQRSBodG1sPgo8aHRtbCBsYW5nPWVuPgogIDxtZXRhIGNoYXJzZXQ9dXRmLTg+CiAgPG1ldGEgbmFtZT12aWV3cG9ydCBjb250ZW50PSJpbml0aWFsLXNjYWxlPTEsIG1pbmltdW0tc2NhbGU9MSwgd2lkdGg9ZGV2aWNlLXdpZHRoIj4KICA8dGl0bGU+RXJyb3IgNDA0IChOb3QgRm91bmQpISExPC90aXRsZT4KICA8c3R5bGU+CiAgICAqe21hcmdpbjowO3BhZGRpbmc6MH1odG1sLGNvZGV7Zm9udDoxNXB4LzIycHggYXJpYWwsc2Fucy1zZXJpZn1odG1se2JhY2tncm91bmQ6I2ZmZjtjb2xvcjojMjIyO3BhZGRpbmc6MTVweH1ib2R5e21hcmdpbjo3JSBhdXRvIDA7bWF4LXdpZHRoOjM5MHB4O21pbi1oZWlnaHQ6MTgwcHg7cGFkZGluZzozMHB4IDAgMTVweH0qID4gYm9keXtiYWNrZ3JvdW5kOnVybCgvL3d3dy5nb29nbGUuY29tL2ltYWdlcy9lcnJvcnMvcm9ib3QucG5nKSAxMDAlIDVweCBuby1yZXBlYXQ7cGFkZGluZy1yaWdodDoyMDVweH1we21hcmdpbjoxMXB4IDAgMjJweDtvdmVyZmxvdzpoaWRkZW59aW5ze2NvbG9yOiM3Nzc7dGV4dC1kZWNvcmF0aW9uOm5vbmV9YSBpbWd7Ym9yZGVyOjB9QG1lZGlhIHNjcmVlbiBhbmQgKG1heC13aWR0aDo3NzJweCl7Ym9keXtiYWNrZ3JvdW5kOm5vbmU7bWFyZ2luLXRvcDowO21heC13aWR0aDpub25lO3BhZGRpbmctcmlnaHQ6MH19I2xvZ297YmFja2dyb3VuZDp1cmwoLy93d3cuZ29vZ2xlLmNvbS9pbWFnZXMvbG9nb3MvZXJyb3JwYWdlL2Vycm9yX2xvZ28tMTUweDU0LnBuZykgbm8tcmVwZWF0O21hcmdpbi1sZWZ0Oi01cHh9QG1lZGlhIG9ubHkgc2NyZWVuIGFuZCAobWluLXJlc29sdXRpb246MTkyZHBpKXsjbG9nb3tiYWNrZ3JvdW5kOnVybCgvL3d3dy5nb29nbGUuY29tL2ltYWdlcy9sb2dvcy9lcnJvcnBhZ2UvZXJyb3JfbG9nby0xNTB4NTQtMngucG5nKSBuby1yZXBlYXQgMCUgMCUvMTAwJSAxMDAlOy1tb3otYm9yZGVyLWltYWdlOnVybCgvL3d3dy5nb29nbGUuY29tL2ltYWdlcy9sb2dvcy9lcnJvcnBhZ2UvZXJyb3JfbG9nby0xNTB4NTQtMngucG5nKSAwfX1AbWVkaWEgb25seSBzY3JlZW4gYW5kICgtd2Via2l0LW1pbi1kZXZpY2UtcGl4ZWwtcmF0aW86Mil7I2xvZ297YmFja2dyb3VuZDp1cmwoLy93d3cuZ29vZ2xlLmNvbS9pbWFnZXMvbG9nb3MvZXJyb3JwYWdlL2Vycm9yX2xvZ28tMTUweDU0LTJ4LnBuZykgbm8tcmVwZWF0Oy13ZWJraXQtYmFja2dyb3VuZC1zaXplOjEwMCUgMTAwJX19I2xvZ297ZGlzcGxheTppbmxpbmUtYmxvY2s7aGVpZ2h0OjU0cHg7d2lkdGg6MTUwcHh9CiAgPC9zdHlsZT4KICA8YSBocmVmPS8vd3d3Lmdvb2dsZS5jb20vPjxzcGFuIGlkPWxvZ28gYXJpYS1sYWJlbD1Hb29nbGU+PC9zcGFuPjwvYT4KICA8cD48Yj40MDQuPC9iPiA8aW5zPlRoYXTigJlzIGFuIGVycm9yLjwvaW5zPgogIDxwPiAgPGlucz5UaGF04oCZcyBhbGwgd2Uga25vdy48L2lucz4K",
              "ok": false,
              "headers": [
                [
                  "content-length",
                  "1449"
                ],
                [
                  "content-type",
                  "text/html; charset=utf-8"
                ]
              ],
              "status": 404,
              "status_text": ""
            }
          },
          "referenced_widgets": [
            "15af13d3a6154d7587ea7f553dc066c9",
            "a83b29bd577344a4b18ae7f3faec5129",
            "086c814fef2b4835a8538ca4d380e524"
          ]
        },
        "outputId": "64571cab-4c5a-41c7-9450-781b70148d3f"
      },
      "outputs": [
        {
          "output_type": "display_data",
          "data": {
            "text/plain": [
              "<IPython.core.display.HTML object>"
            ],
            "text/html": [
              "<style>body{\n",
              "  background-color: white;\n",
              "  text-align: center;\n",
              "  padding: 20px;\n",
              "  border: 1px solid pink;\n",
              "  order-radius: 10px;\n",
              "  box-shadow: 0px 2px 2px lightgray;\n",
              "}\n",
              "\n",
              "#title{\n",
              "  font-size: 40px;\n",
              "  margin: 10px; \n",
              "  padding: 20px;\n",
              "  font-weight: 600;\n",
              "  background-image: linear-gradient(to top, #553c9a, #b393d3);\n",
              "  color: transparent;\n",
              "  background-clip: text;\n",
              "  -webkit-background-clip:text;\n",
              "  word-wrap: break-word;\n",
              "}\n",
              "\n",
              "#quiz{\n",
              "  background-color: white;\n",
              "  text-align: center;\n",
              "  padding: 20px;\n",
              "  border: 1px solid pink;\n",
              "  order-radius: 10px;\n",
              "  box-shadow: 0px 2px 2px lightgray;\n",
              "}\n",
              "\n",
              "#question{\n",
              "  font-size: 24px;\n",
              "  color: #222222;\n",
              "  margin-bottom: 20px;\n",
              "  text-align: left;\n",
              "}\n",
              "#finalres{\n",
              "  font-size: 26px;\n",
              "  color: #222222;\n",
              "  margin-bottom: 20px;\n",
              "  text-align: left;\n",
              "}\n",
              "#options{\n",
              "  list-style-type: none;\n",
              "  padding: 0;\n",
              "  margin-left: 20px;\n",
              "  text-align: left;\n",
              "}\n",
              "\n",
              ".label{\n",
              "  font-size: 18px;\n",
              "  margin-right: 20px;\n",
              "  text-align: center;\n",
              "  color: #333333;\n",
              "}\n",
              "\n",
              ".number{\n",
              "  display: inline-block;\n",
              "  width: 30px;\n",
              "  height: 30px;\n",
              "  line-height: 30px;\n",
              "  border-radius: 50%;\n",
              "  background-color: pink;\n",
              "  color: white;\n",
              "  margin-right: 20px;\n",
              "  margin-left: 20px;\n",
              "  padding: 10;\n",
              "}\n",
              "\n",
              ".button-1 {\n",
              "  background-color: #EA4C89;\n",
              "  border-radius: 8px;\n",
              "  border-style: none;\n",
              "  box-sizing: border-box;\n",
              "  color: #FFFFFF;\n",
              "  cursor: pointer;\n",
              "  display: inline-block;\n",
              "  font-family: \"Haas Grot Text R Web\", \"Helvetica Neue\", Helvetica, Arial, sans-serif;\n",
              "  font-size: 14px;\n",
              "  font-weight: 500;\n",
              "  height: 40px;\n",
              "  line-height: 20px;\n",
              "  list-style: none;\n",
              "  margin: 0;\n",
              "  outline: none;\n",
              "  padding: 10px 16px;\n",
              "  position: relative;\n",
              "  text-align: center;\n",
              "  text-decoration: none;\n",
              "  transition: color 100ms;\n",
              "  vertical-align: baseline;\n",
              "  user-select: none;\n",
              "  -webkit-user-select: none;\n",
              "  touch-action: manipulation;\n",
              "}\n",
              "\n",
              ".button-1:hover,\n",
              ".button-1:focus {\n",
              "  background-color: #F082AC;\n",
              "}\n",
              "table {\n",
              "  width: 50%;\n",
              "  margin: 20px auto;\n",
              "  font-family: Arial, sans-serif;\n",
              "  color: #333;\n",
              "}\n",
              "\n",
              "th {\n",
              "  background-color: #f2f2f2 !important;\n",
              "  border-bottom: 2px solid #ddd;\n",
              "  padding: 10px;\n",
              "  text-align: center;\n",
              "  font-size: 18px;\n",
              "}\n",
              "\n",
              "td {\n",
              "  padding: 10px;\n",
              "  text-align: center;\n",
              "  border-bottom: 1px solid #ddd;\n",
              "  font-size: 16px;\n",
              "}\n",
              "\n",
              "tbody tr {\n",
              "  background-color: #ffece5 !important;\n",
              "}\n",
              "\n",
              "tbody tr:hover {\n",
              "  background-color: #f2f2f2;\n",
              "}\n",
              "\n",
              "caption {\n",
              "  font-size: 18px;\n",
              "  font-weight: bold;\n",
              "  margin-bottom: 10px;\n",
              "}</style>"
            ]
          },
          "metadata": {}
        },
        {
          "output_type": "display_data",
          "data": {
            "text/plain": [
              "<IPython.core.display.HTML object>"
            ],
            "text/html": [
              "<div id=\"container\" style=\"display: flex; justify-content: center; align-items: center;margin-bottom:20px;\">\n",
              "\n",
              " <canvas id=\"raceTrack\" width=1600 height=200 style=\"background-color:#EDE7D9; margin:auto;\"></canvas>\n",
              "</div>\n",
              "\n",
              "   <script>\n",
              "    var canvas = document.querySelector('canvas')\n",
              "    var ctx = canvas.getContext('2d')\n",
              "    var red_car_x = 0;\n",
              "    var blue_car_x = 0;\n",
              "    var old_red_x = 0, old_blue_x = 0;\n",
              "\n",
              "    var blue_car_img = new Image();\n",
              "    blue_car_img.src = \"https://i.imgur.com/KSQEMhx.png\";\n",
              "    var red_car_img = new Image();\n",
              "    red_car_img.src = \"https://i.imgur.com/qpnMroV.png\";\n",
              "    var finish_line_img = new Image();\n",
              "    finish_line_img.src = \"https://i.imgur.com/2v6WDXj.png\";\n",
              "\n",
              "    \n",
              "    function drawTrack() {\n",
              "        // Draw the road\n",
              "        ctx.beginPath();\n",
              "        ctx.rect(0, 0, canvas.width, canvas.height);\n",
              "        ctx.fillStyle = \"grey\";\n",
              "        ctx.fill();\n",
              "\n",
              "        // Draw the dividing line\n",
              "        ctx.beginPath();\n",
              "        ctx.setLineDash([20, 15]);\n",
              "        ctx.moveTo(0, canvas.height / 2);\n",
              "        ctx.lineTo(canvas.width, canvas.height / 2);\n",
              "        ctx.strokeStyle = \"yellow\";\n",
              "        ctx.lineWidth = 2;\n",
              "        ctx.stroke();\n",
              "\n",
              "        // Finish line\n",
              "        ctx.beginPath();\n",
              "        ctx.setLineDash([]);\n",
              "        ctx.drawImage(finish_line_img, canvas.width - 125, -5, 210, 210);\n",
              "        //ctx.moveTo(canvas.width - 50, 0);\n",
              "        //ctx.lineTo(canvas.width - 50, canvas.height);\n",
              "        //ctx.strokeStyle = \"red\";\n",
              "        //ctx.lineWidth = 5;\n",
              "        ctx.stroke();\n",
              "    }\n",
              "\n",
              "    function draw() {\n",
              "        ctx.clearRect(0, 0, canvas.width, canvas.height)\n",
              "        drawTrack()\n",
              "        if (red_car_img.complete) {\n",
              "            ctx.drawImage(red_car_img, old_red_x, canvas.height * 1 / 4 - 20, 80, 40);\n",
              "        } else {\n",
              "            red_car_img.onload = function () {\n",
              "                ctx.drawImage(red_car_img, old_red_x, canvas.height * 1 / 4 - 20, 80, 40);\n",
              "            };\n",
              "        }\n",
              "        if (blue_car_img.complete) {\n",
              "            ctx.drawImage(blue_car_img, old_blue_x, canvas.height * 3 / 4 - 20, 80, 40);\n",
              "        } else {\n",
              "            blue_car_img.onload = function () {\n",
              "                ctx.drawImage(blue_car_img, old_blue_x, canvas.height * 3 / 4 - 20, 80, 40);\n",
              "            };\n",
              "        }\n",
              "        // Increment car positions\n",
              "        if (old_red_x < Math.round(red_car_x))\n",
              "          old_red_x += 0.6; // Adjust the value as needed for desired speed\n",
              "        if (old_blue_x < Math.round(blue_car_x))\n",
              "          old_blue_x += 0.6;\n",
              "        requestAnimationFrame(draw); // This line will call the draw function repeatedly, creating an animation effect.\n",
              "    }\n",
              "\n",
              "  function reset() {\n",
              "    old_red_x = 0;\n",
              "    old_blue_x = 0;\n",
              "    red_car_x = 0;\n",
              "    blue_car_x = 0;\n",
              "    }\n",
              "\n",
              "\n",
              "    draw()\n",
              "</script>\n"
            ]
          },
          "metadata": {}
        },
        {
          "output_type": "display_data",
          "data": {
            "text/plain": [
              "<IPython.core.display.Javascript object>"
            ],
            "application/javascript": [
              "document.getElementById(\"raceTrack\").style.display = \"block\";"
            ]
          },
          "metadata": {}
        },
        {
          "output_type": "display_data",
          "data": {
            "text/plain": [
              "<IPython.core.display.Javascript object>"
            ],
            "application/javascript": [
              "\n",
              "      reset(); // call the function\n",
              "      "
            ]
          },
          "metadata": {}
        },
        {
          "output_type": "display_data",
          "data": {
            "text/plain": [
              "<IPython.core.display.Javascript object>"
            ],
            "application/javascript": [
              "\n",
              "      var nextshow = document.getElementsByName(\"nextbtn\");\n",
              "      nextshow[0].style.display = \"none\";\n",
              "      "
            ]
          },
          "metadata": {}
        },
        {
          "output_type": "display_data",
          "data": {
            "text/plain": [
              "<IPython.core.display.Javascript object>"
            ],
            "application/javascript": [
              "\n",
              "      function myFunction() {\n",
              "        var nextshow = document.getElementsByName('nextbtn')[0];\n",
              "        nextshow.style.display = \"none\";\n",
              "        var subbtn = document.getElementById('subbtn');\n",
              "        subbtn.style.display = \"block\";\n",
              "        let selected = document.querySelector('input[name=\"option\"]:checked');\n",
              "        let result = document.querySelector(\"#result\");\n",
              "        if (selected) {\n",
              "          let x = parseInt(selected.value) + 1;\n",
              "          if (x == 2){\n",
              "            result.textContent = \"Correct!\";\n",
              "            result.style.color = \"green\";\n",
              "            nextshow.style.display = \"block\";\n",
              "            subbtn.style.display = \"none\";\n",
              "            let dModifier = 228.57142857142858;\n",
              "            blue_car_x += dModifier;\n",
              "            red_car_x += dModifier/2;\n",
              "            draw()\n",
              "            google.colab.kernel.invokeFunction('notebook.increment_num_correct', [], {});\n",
              "          }\n",
              "          else{\n",
              "            result.textContent = \"Wrong!\";\n",
              "            result.style.color = \"red\";\n",
              "            nextshow.style.display = \"block\";\n",
              "            subbtn.style.display = \"none\";\n",
              "            let dModifier = 228.57142857142858;\n",
              "            red_car_x += dModifier;\n",
              "            blue_car_x += dModifier/2;\n",
              "            draw()\n",
              "          }\n",
              "        }\n",
              "        else {\n",
              "          result.textContent = \"Please select an answer.\";\n",
              "          result.style.color = \"orange\";\n",
              "          subbtn.style.margin = \"auto\";\n",
              "        }\n",
              "      }\n",
              "      function exit(){\n",
              "        google.colab.kernel.invokeFunction('notebook.loadPage', ['home'], {});\n",
              "      }\n",
              "      "
            ]
          },
          "metadata": {}
        },
        {
          "output_type": "display_data",
          "data": {
            "text/plain": [
              "HTML(value=\"<div id='quiz'><button id='exitbtn' type='button' class='button-1' onclick='exit()' style='margin-…"
            ],
            "application/vnd.jupyter.widget-view+json": {
              "version_major": 2,
              "version_minor": 0,
              "model_id": "15af13d3a6154d7587ea7f553dc066c9"
            }
          },
          "metadata": {}
        },
        {
          "output_type": "display_data",
          "data": {
            "text/plain": [
              "<IPython.core.display.HTML object>"
            ],
            "text/html": [
              "<button name=\"nextbtn\" id=\"button-83888b3e-89c7-409e-9e90-ae4c06dd73a9\" style=\"margin: auto; margin-top: 20px; background-color: #EA4C89; border-radius: 8px; border-style: none; box-sizing: border-box; color: #FFFFFF; cursor: pointer; display:none; font-family: &quot;Haas Grot Text R Web&quot;, &quot;Helvetica Neue&quot;, Helvetica, Arial, sans-serif; font-size: 14px; font-weight: 500; height: 40px; line-height: 20px; list-style: none; outline: none; padding: 10px 16px; position: relative; text-align: center; text-decoration: none; transition: color 100ms; vertical-align: baseline; user-select: none; -webkit-user-select: none; touch-action: manipulation;\">next</button>"
            ]
          },
          "metadata": {}
        },
        {
          "output_type": "display_data",
          "data": {
            "text/plain": [
              "<IPython.core.display.Javascript object>"
            ],
            "application/javascript": [
              "\n",
              "        document.querySelector(\"#button-83888b3e-89c7-409e-9e90-ae4c06dd73a9\").onclick = (e) => {\n",
              "            google.colab.kernel.invokeFunction('button-83888b3e-89c7-409e-9e90-ae4c06dd73a9', [], {})\n",
              "            e.preventDefault();\n",
              "        };\n",
              "      "
            ]
          },
          "metadata": {}
        },
        {
          "output_type": "display_data",
          "data": {
            "text/plain": [
              "<IPython.core.display.Javascript object>"
            ],
            "application/javascript": [
              "\n",
              "      var nextshow = document.getElementsByName(\"nextbtn\");\n",
              "      nextshow[0].style.display = \"none\";\n",
              "      "
            ]
          },
          "metadata": {}
        },
        {
          "output_type": "display_data",
          "data": {
            "text/plain": [
              "<IPython.core.display.Javascript object>"
            ],
            "application/javascript": [
              "\n",
              "      function myFunction() {\n",
              "        var nextshow = document.getElementsByName('nextbtn')[0];\n",
              "        nextshow.style.display = \"none\";\n",
              "        var subbtn = document.getElementById('subbtn');\n",
              "        subbtn.style.display = \"block\";\n",
              "        let selected = document.querySelector('input[name=\"option\"]:checked');\n",
              "        let result = document.querySelector(\"#result\");\n",
              "        if (selected) {\n",
              "          let x = parseInt(selected.value) + 1;\n",
              "          if (x == 3){\n",
              "            result.textContent = \"Correct!\";\n",
              "            result.style.color = \"green\";\n",
              "            nextshow.style.display = \"block\";\n",
              "            subbtn.style.display = \"none\";\n",
              "            let dModifier = 228.57142857142858;\n",
              "            blue_car_x += dModifier;\n",
              "            red_car_x += dModifier/2;\n",
              "            draw()\n",
              "            google.colab.kernel.invokeFunction('notebook.increment_num_correct', [], {});\n",
              "          }\n",
              "          else{\n",
              "            result.textContent = \"Wrong!\";\n",
              "            result.style.color = \"red\";\n",
              "            nextshow.style.display = \"block\";\n",
              "            subbtn.style.display = \"none\";\n",
              "            let dModifier = 228.57142857142858;\n",
              "            red_car_x += dModifier;\n",
              "            blue_car_x += dModifier/2;\n",
              "            draw()\n",
              "          }\n",
              "        }\n",
              "        else {\n",
              "          result.textContent = \"Please select an answer.\";\n",
              "          result.style.color = \"orange\";\n",
              "          subbtn.style.margin = \"auto\";\n",
              "        }\n",
              "      }\n",
              "      function exit(){\n",
              "        google.colab.kernel.invokeFunction('notebook.loadPage', ['home'], {});\n",
              "      }\n",
              "      "
            ]
          },
          "metadata": {}
        },
        {
          "output_type": "display_data",
          "data": {
            "text/plain": [
              "<IPython.core.display.Javascript object>"
            ],
            "application/javascript": [
              "\n",
              "      var nextshow = document.getElementsByName(\"nextbtn\");\n",
              "      nextshow[0].style.display = \"none\";\n",
              "      "
            ]
          },
          "metadata": {}
        },
        {
          "output_type": "display_data",
          "data": {
            "text/plain": [
              "<IPython.core.display.Javascript object>"
            ],
            "application/javascript": [
              "\n",
              "      function myFunction() {\n",
              "        var nextshow = document.getElementsByName('nextbtn')[0];\n",
              "        nextshow.style.display = \"none\";\n",
              "        var subbtn = document.getElementById('subbtn');\n",
              "        subbtn.style.display = \"block\";\n",
              "        let selected = document.querySelector('input[name=\"option\"]:checked');\n",
              "        let result = document.querySelector(\"#result\");\n",
              "        if (selected) {\n",
              "          let x = parseInt(selected.value) + 1;\n",
              "          if (x == 1){\n",
              "            result.textContent = \"Correct!\";\n",
              "            result.style.color = \"green\";\n",
              "            nextshow.style.display = \"block\";\n",
              "            subbtn.style.display = \"none\";\n",
              "            let dModifier = 228.57142857142858;\n",
              "            blue_car_x += dModifier;\n",
              "            red_car_x += dModifier/2;\n",
              "            draw()\n",
              "            google.colab.kernel.invokeFunction('notebook.increment_num_correct', [], {});\n",
              "          }\n",
              "          else{\n",
              "            result.textContent = \"Wrong!\";\n",
              "            result.style.color = \"red\";\n",
              "            nextshow.style.display = \"block\";\n",
              "            subbtn.style.display = \"none\";\n",
              "            let dModifier = 228.57142857142858;\n",
              "            red_car_x += dModifier;\n",
              "            blue_car_x += dModifier/2;\n",
              "            draw()\n",
              "          }\n",
              "        }\n",
              "        else {\n",
              "          result.textContent = \"Please select an answer.\";\n",
              "          result.style.color = \"orange\";\n",
              "          subbtn.style.margin = \"auto\";\n",
              "        }\n",
              "      }\n",
              "      function exit(){\n",
              "        google.colab.kernel.invokeFunction('notebook.loadPage', ['home'], {});\n",
              "      }\n",
              "      "
            ]
          },
          "metadata": {}
        },
        {
          "output_type": "display_data",
          "data": {
            "text/plain": [
              "<IPython.core.display.Javascript object>"
            ],
            "application/javascript": [
              "\n",
              "      var nextshow = document.getElementsByName(\"nextbtn\");\n",
              "      nextshow[0].style.display = \"none\";\n",
              "      "
            ]
          },
          "metadata": {}
        },
        {
          "output_type": "display_data",
          "data": {
            "text/plain": [
              "<IPython.core.display.Javascript object>"
            ],
            "application/javascript": [
              "\n",
              "      function myFunction() {\n",
              "        var nextshow = document.getElementsByName('nextbtn')[0];\n",
              "        nextshow.style.display = \"none\";\n",
              "        var subbtn = document.getElementById('subbtn');\n",
              "        subbtn.style.display = \"block\";\n",
              "        let selected = document.querySelector('input[name=\"option\"]:checked');\n",
              "        let result = document.querySelector(\"#result\");\n",
              "        if (selected) {\n",
              "          let x = parseInt(selected.value) + 1;\n",
              "          if (x == 4){\n",
              "            result.textContent = \"Correct!\";\n",
              "            result.style.color = \"green\";\n",
              "            nextshow.style.display = \"block\";\n",
              "            subbtn.style.display = \"none\";\n",
              "            let dModifier = 228.57142857142858;\n",
              "            blue_car_x += dModifier;\n",
              "            red_car_x += dModifier/2;\n",
              "            draw()\n",
              "            google.colab.kernel.invokeFunction('notebook.increment_num_correct', [], {});\n",
              "          }\n",
              "          else{\n",
              "            result.textContent = \"Wrong!\";\n",
              "            result.style.color = \"red\";\n",
              "            nextshow.style.display = \"block\";\n",
              "            subbtn.style.display = \"none\";\n",
              "            let dModifier = 228.57142857142858;\n",
              "            red_car_x += dModifier;\n",
              "            blue_car_x += dModifier/2;\n",
              "            draw()\n",
              "          }\n",
              "        }\n",
              "        else {\n",
              "          result.textContent = \"Please select an answer.\";\n",
              "          result.style.color = \"orange\";\n",
              "          subbtn.style.margin = \"auto\";\n",
              "        }\n",
              "      }\n",
              "      function exit(){\n",
              "        google.colab.kernel.invokeFunction('notebook.loadPage', ['home'], {});\n",
              "      }\n",
              "      "
            ]
          },
          "metadata": {}
        },
        {
          "output_type": "display_data",
          "data": {
            "text/plain": [
              "<IPython.core.display.Javascript object>"
            ],
            "application/javascript": [
              "\n",
              "      var nextshow = document.getElementsByName(\"nextbtn\");\n",
              "      nextshow[0].style.display = \"none\";\n",
              "      "
            ]
          },
          "metadata": {}
        },
        {
          "output_type": "display_data",
          "data": {
            "text/plain": [
              "<IPython.core.display.Javascript object>"
            ],
            "application/javascript": [
              "\n",
              "      function myFunction() {\n",
              "        var nextshow = document.getElementsByName('nextbtn')[0];\n",
              "        nextshow.style.display = \"none\";\n",
              "        var subbtn = document.getElementById('subbtn');\n",
              "        subbtn.style.display = \"block\";\n",
              "        let selected = document.querySelector('input[name=\"option\"]:checked');\n",
              "        let result = document.querySelector(\"#result\");\n",
              "        if (selected) {\n",
              "          let x = parseInt(selected.value) + 1;\n",
              "          if (x == 2){\n",
              "            result.textContent = \"Correct!\";\n",
              "            result.style.color = \"green\";\n",
              "            nextshow.style.display = \"block\";\n",
              "            subbtn.style.display = \"none\";\n",
              "            let dModifier = 228.57142857142858;\n",
              "            blue_car_x += dModifier;\n",
              "            red_car_x += dModifier/2;\n",
              "            draw()\n",
              "            google.colab.kernel.invokeFunction('notebook.increment_num_correct', [], {});\n",
              "          }\n",
              "          else{\n",
              "            result.textContent = \"Wrong!\";\n",
              "            result.style.color = \"red\";\n",
              "            nextshow.style.display = \"block\";\n",
              "            subbtn.style.display = \"none\";\n",
              "            let dModifier = 228.57142857142858;\n",
              "            red_car_x += dModifier;\n",
              "            blue_car_x += dModifier/2;\n",
              "            draw()\n",
              "          }\n",
              "        }\n",
              "        else {\n",
              "          result.textContent = \"Please select an answer.\";\n",
              "          result.style.color = \"orange\";\n",
              "          subbtn.style.margin = \"auto\";\n",
              "        }\n",
              "      }\n",
              "      function exit(){\n",
              "        google.colab.kernel.invokeFunction('notebook.loadPage', ['home'], {});\n",
              "      }\n",
              "      "
            ]
          },
          "metadata": {}
        },
        {
          "output_type": "display_data",
          "data": {
            "text/plain": [
              "<IPython.core.display.Javascript object>"
            ],
            "application/javascript": [
              "\n",
              "      var nextshow = document.getElementsByName(\"nextbtn\");\n",
              "      nextshow[0].style.display = \"none\";\n",
              "      "
            ]
          },
          "metadata": {}
        },
        {
          "output_type": "display_data",
          "data": {
            "text/plain": [
              "<IPython.core.display.Javascript object>"
            ],
            "application/javascript": [
              "\n",
              "      function myFunction() {\n",
              "        var nextshow = document.getElementsByName('nextbtn')[0];\n",
              "        nextshow.style.display = \"none\";\n",
              "        var subbtn = document.getElementById('subbtn');\n",
              "        subbtn.style.display = \"block\";\n",
              "        let selected = document.querySelector('input[name=\"option\"]:checked');\n",
              "        let result = document.querySelector(\"#result\");\n",
              "        if (selected) {\n",
              "          let x = parseInt(selected.value) + 1;\n",
              "          if (x == 1){\n",
              "            result.textContent = \"Correct!\";\n",
              "            result.style.color = \"green\";\n",
              "            nextshow.style.display = \"block\";\n",
              "            subbtn.style.display = \"none\";\n",
              "            let dModifier = 228.57142857142858;\n",
              "            blue_car_x += dModifier;\n",
              "            red_car_x += dModifier/2;\n",
              "            draw()\n",
              "            google.colab.kernel.invokeFunction('notebook.increment_num_correct', [], {});\n",
              "          }\n",
              "          else{\n",
              "            result.textContent = \"Wrong!\";\n",
              "            result.style.color = \"red\";\n",
              "            nextshow.style.display = \"block\";\n",
              "            subbtn.style.display = \"none\";\n",
              "            let dModifier = 228.57142857142858;\n",
              "            red_car_x += dModifier;\n",
              "            blue_car_x += dModifier/2;\n",
              "            draw()\n",
              "          }\n",
              "        }\n",
              "        else {\n",
              "          result.textContent = \"Please select an answer.\";\n",
              "          result.style.color = \"orange\";\n",
              "          subbtn.style.margin = \"auto\";\n",
              "        }\n",
              "      }\n",
              "      function exit(){\n",
              "        google.colab.kernel.invokeFunction('notebook.loadPage', ['home'], {});\n",
              "      }\n",
              "      "
            ]
          },
          "metadata": {}
        },
        {
          "output_type": "display_data",
          "data": {
            "text/plain": [
              "<IPython.core.display.Javascript object>"
            ],
            "application/javascript": [
              "\n",
              "      var nextshow = document.getElementsByName(\"nextbtn\");\n",
              "      nextshow[0].style.display = \"none\";\n",
              "      "
            ]
          },
          "metadata": {}
        },
        {
          "output_type": "display_data",
          "data": {
            "text/plain": [
              "<IPython.core.display.Javascript object>"
            ],
            "application/javascript": [
              "\n",
              "      function myFunction() {\n",
              "        var nextshow = document.getElementsByName('nextbtn')[0];\n",
              "        nextshow.style.display = \"none\";\n",
              "        var subbtn = document.getElementById('subbtn');\n",
              "        subbtn.style.display = \"block\";\n",
              "        let selected = document.querySelector('input[name=\"option\"]:checked');\n",
              "        let result = document.querySelector(\"#result\");\n",
              "        if (selected) {\n",
              "          let x = parseInt(selected.value) + 1;\n",
              "          if (x == 3){\n",
              "            result.textContent = \"Correct!\";\n",
              "            result.style.color = \"green\";\n",
              "            nextshow.style.display = \"block\";\n",
              "            subbtn.style.display = \"none\";\n",
              "            let dModifier = 228.57142857142858;\n",
              "            blue_car_x += dModifier;\n",
              "            red_car_x += dModifier/2;\n",
              "            draw()\n",
              "            google.colab.kernel.invokeFunction('notebook.increment_num_correct', [], {});\n",
              "          }\n",
              "          else{\n",
              "            result.textContent = \"Wrong!\";\n",
              "            result.style.color = \"red\";\n",
              "            nextshow.style.display = \"block\";\n",
              "            subbtn.style.display = \"none\";\n",
              "            let dModifier = 228.57142857142858;\n",
              "            red_car_x += dModifier;\n",
              "            blue_car_x += dModifier/2;\n",
              "            draw()\n",
              "          }\n",
              "        }\n",
              "        else {\n",
              "          result.textContent = \"Please select an answer.\";\n",
              "          result.style.color = \"orange\";\n",
              "          subbtn.style.margin = \"auto\";\n",
              "        }\n",
              "      }\n",
              "      function exit(){\n",
              "        google.colab.kernel.invokeFunction('notebook.loadPage', ['home'], {});\n",
              "      }\n",
              "      "
            ]
          },
          "metadata": {}
        },
        {
          "output_type": "display_data",
          "data": {
            "text/plain": [
              "<IPython.core.display.Javascript object>"
            ],
            "application/javascript": [
              "\n",
              "      var nextshow = document.getElementsByName(\"nextbtn\");\n",
              "      nextshow[0].style.display = \"none\";\n",
              "      "
            ]
          },
          "metadata": {}
        },
        {
          "output_type": "display_data",
          "data": {
            "text/plain": [
              "<IPython.core.display.Javascript object>"
            ],
            "application/javascript": [
              "document.getElementById(\"raceTrack\").style.display = \"none\";"
            ]
          },
          "metadata": {}
        }
      ],
      "source": [
        "import ipywidgets as widgets\n",
        "import IPython\n",
        "from IPython.core.display import display, HTML\n",
        "from google.colab import output\n",
        "import json\n",
        "\n",
        "from IPython.display import Math, HTML, display\n",
        "import uuid\n",
        "from IPython.display import Javascript\n",
        "import matplotlib.pyplot as plt\n",
        "import matplotlib.patches as patches\n",
        "import base64\n",
        "import io\n",
        "\n",
        "#functions to call from javascript\n",
        "from google.colab import output\n",
        "import os\n",
        "from google.colab import drive\n",
        "\n",
        "\n",
        "\n",
        "def change_screen(user):\n",
        "    output.clear()\n",
        "\n",
        "    if user == 'admin':\n",
        "       htmlH = open('/content/drive/MyDrive/Colab Notebooks/CloudRacer/admin.html', 'r') #admin html file\n",
        "       htmlHContent = htmlH.read() #admin html content\n",
        "       display(HTML(htmlHContent))\n",
        "\n",
        "    if user == 'player':\n",
        "      # Specify the path to the notebook file\n",
        "      notebook_path = '/content/drive/MyDrive/Colab Notebooks/CloudRacer/HomeFinal.ipynb'\n",
        "      # Check if the notebook file exists\n",
        "      if os.path.isfile(notebook_path):\n",
        "      # Execute the notebook file\n",
        "        %run \"$notebook_path\"\n",
        "      else:\n",
        "        print(f\"Notebook file not found at {notebook_path}.\")\n",
        "\n",
        "    if user == 'register' :\n",
        "       # Specify the path to the notebook file\n",
        "      notebook_path = '/content/drive/MyDrive/Colab Notebooks/CloudRacer/RegisterFinal.ipynb'\n",
        "      # Check if the notebook file exists\n",
        "      if os.path.isfile(notebook_path):\n",
        "      # Execute the notebook file\n",
        "        %run \"$notebook_path\"\n",
        "      else:\n",
        "        print(f\"Notebook file not found at {notebook_path}.\")\n",
        "\n",
        "    if user == 'login' :\n",
        "      loginpage = open('/content/drive/MyDrive/Colab Notebooks/CloudRacer/login.html', 'r') #login html file\n",
        "      loginp = loginpage.read() #admin html content\n",
        "      display(HTML(loginp))\n",
        "\n",
        "\n",
        "\n",
        "\n",
        "# Register the function to be called from JavaScript\n",
        "output.register_callback('clearOutput', change_screen)\n",
        "\n",
        "\n",
        "\n",
        "\n",
        "\n",
        "\n",
        "# display login page\n",
        "loginpage = open('/content/drive/MyDrive/Colab Notebooks/CloudRacer/login.html', 'r') #login html file\n",
        "loginp = loginpage.read() #admin html content\n",
        "\n",
        "\n",
        "display(HTML(loginp))\n",
        "\n"
      ]
    }
  ],
  "metadata": {
    "colab": {
      "provenance": [],
      "include_colab_link": true
    },
    "kernelspec": {
      "display_name": "Python 3",
      "name": "python3"
    },
    "language_info": {
      "name": "python"
    },
    "widgets": {
      "application/vnd.jupyter.widget-state+json": {
        "15af13d3a6154d7587ea7f553dc066c9": {
          "model_module": "@jupyter-widgets/controls",
          "model_name": "HTMLModel",
          "model_module_version": "1.5.0",
          "state": {
            "_dom_classes": [],
            "_model_module": "@jupyter-widgets/controls",
            "_model_module_version": "1.5.0",
            "_model_name": "HTMLModel",
            "_view_count": null,
            "_view_module": "@jupyter-widgets/controls",
            "_view_module_version": "1.5.0",
            "_view_name": "HTMLView",
            "description": "",
            "description_tooltip": null,
            "layout": "IPY_MODEL_a83b29bd577344a4b18ae7f3faec5129",
            "placeholder": "​",
            "style": "IPY_MODEL_086c814fef2b4835a8538ca4d380e524",
            "value": "\n          <h2 id='title'>Better Luck Next Time!</h2>\n          <div id='quiz'>\n            <p id='finalres'>You will get it next time, practice makes perfect</p>\n            <p id='finalres'>Your Score: <strong>3/7</strong></p>\n\n            <table>\n              <thead>\n                <tr>\n                  <th>Category</th>\n                  <th>Score</th>\n                </tr>\n              </thead>\n              <tbody>\n                <tr><td>cloud</td><td>1</td></tr><tr><td>javascript</td><td>1</td></tr><tr><td>c++</td><td>1</td></tr>\n              </tbody>\n            </table>\n\n            <div style=\"text-align:center; margin-top: 30px;\">\n              <img src='data:image/png;base64,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' style=\"width: 500px; height: 500px; object-fit: cover; border-radius: 40%; box-shadow: 0px 5px 15px rgba(0,0,0,0.1);\"/>\n            </div>\n\n            <p id='finalres'>Keep practicing to improve your score!</p>\n            <p id='finalres'>Focus on: c++</p>\n            <button class=\"button-1\" onclick=\"google.colab.kernel.invokeFunction('notebook.restart_quiz', [], {});\">Retry Quiz</button>\n            <button id='exitbtn' type='button' class='button-1' onclick='exit()' style='margin-left: 5px;'>Exit</button>\n          </div>\n          "
          }
        },
        "a83b29bd577344a4b18ae7f3faec5129": {
          "model_module": "@jupyter-widgets/base",
          "model_name": "LayoutModel",
          "model_module_version": "1.2.0",
          "state": {
            "_model_module": "@jupyter-widgets/base",
            "_model_module_version": "1.2.0",
            "_model_name": "LayoutModel",
            "_view_count": null,
            "_view_module": "@jupyter-widgets/base",
            "_view_module_version": "1.2.0",
            "_view_name": "LayoutView",
            "align_content": null,
            "align_items": null,
            "align_self": null,
            "border": null,
            "bottom": null,
            "display": null,
            "flex": null,
            "flex_flow": null,
            "grid_area": null,
            "grid_auto_columns": null,
            "grid_auto_flow": null,
            "grid_auto_rows": null,
            "grid_column": null,
            "grid_gap": null,
            "grid_row": null,
            "grid_template_areas": null,
            "grid_template_columns": null,
            "grid_template_rows": null,
            "height": null,
            "justify_content": null,
            "justify_items": null,
            "left": null,
            "margin": null,
            "max_height": null,
            "max_width": null,
            "min_height": null,
            "min_width": null,
            "object_fit": null,
            "object_position": null,
            "order": null,
            "overflow": null,
            "overflow_x": null,
            "overflow_y": null,
            "padding": null,
            "right": null,
            "top": null,
            "visibility": null,
            "width": null
          }
        },
        "086c814fef2b4835a8538ca4d380e524": {
          "model_module": "@jupyter-widgets/controls",
          "model_name": "DescriptionStyleModel",
          "model_module_version": "1.5.0",
          "state": {
            "_model_module": "@jupyter-widgets/controls",
            "_model_module_version": "1.5.0",
            "_model_name": "DescriptionStyleModel",
            "_view_count": null,
            "_view_module": "@jupyter-widgets/base",
            "_view_module_version": "1.2.0",
            "_view_name": "StyleView",
            "description_width": ""
          }
        }
      }
    }
  },
  "nbformat": 4,
  "nbformat_minor": 0
}